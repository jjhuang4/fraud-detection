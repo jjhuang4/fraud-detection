{
 "cells": [
  {
   "cell_type": "code",
   "execution_count": 11,
   "id": "initial_id",
   "metadata": {
    "collapsed": true,
    "ExecuteTime": {
     "end_time": "2023-12-29T09:39:15.334065Z",
     "start_time": "2023-12-29T09:39:15.320062600Z"
    }
   },
   "outputs": [],
   "source": [
    "import pandas as pd\n",
    "import numpy as np\n",
    "import matplotlib.pyplot as plt\n",
    "import seaborn as sns"
   ]
  },
  {
   "cell_type": "code",
   "execution_count": 12,
   "outputs": [],
   "source": [
    "df = pd.read_csv(\"creditcard.csv\")"
   ],
   "metadata": {
    "collapsed": false,
    "ExecuteTime": {
     "end_time": "2023-12-29T09:39:17.484788900Z",
     "start_time": "2023-12-29T09:39:15.505562100Z"
    }
   },
   "id": "766ae2a9a964a580"
  },
  {
   "cell_type": "code",
   "execution_count": 13,
   "outputs": [
    {
     "data": {
      "text/plain": "   Time        V1        V2        V3        V4        V5        V6        V7  \\\n0   0.0 -1.359807 -0.072781  2.536347  1.378155 -0.338321  0.462388  0.239599   \n1   0.0  1.191857  0.266151  0.166480  0.448154  0.060018 -0.082361 -0.078803   \n2   1.0 -1.358354 -1.340163  1.773209  0.379780 -0.503198  1.800499  0.791461   \n3   1.0 -0.966272 -0.185226  1.792993 -0.863291 -0.010309  1.247203  0.237609   \n4   2.0 -1.158233  0.877737  1.548718  0.403034 -0.407193  0.095921  0.592941   \n\n         V8        V9  ...       V21       V22       V23       V24       V25  \\\n0  0.098698  0.363787  ... -0.018307  0.277838 -0.110474  0.066928  0.128539   \n1  0.085102 -0.255425  ... -0.225775 -0.638672  0.101288 -0.339846  0.167170   \n2  0.247676 -1.514654  ...  0.247998  0.771679  0.909412 -0.689281 -0.327642   \n3  0.377436 -1.387024  ... -0.108300  0.005274 -0.190321 -1.175575  0.647376   \n4 -0.270533  0.817739  ... -0.009431  0.798278 -0.137458  0.141267 -0.206010   \n\n        V26       V27       V28  Amount  Class  \n0 -0.189115  0.133558 -0.021053  149.62      0  \n1  0.125895 -0.008983  0.014724    2.69      0  \n2 -0.139097 -0.055353 -0.059752  378.66      0  \n3 -0.221929  0.062723  0.061458  123.50      0  \n4  0.502292  0.219422  0.215153   69.99      0  \n\n[5 rows x 31 columns]",
      "text/html": "<div>\n<style scoped>\n    .dataframe tbody tr th:only-of-type {\n        vertical-align: middle;\n    }\n\n    .dataframe tbody tr th {\n        vertical-align: top;\n    }\n\n    .dataframe thead th {\n        text-align: right;\n    }\n</style>\n<table border=\"1\" class=\"dataframe\">\n  <thead>\n    <tr style=\"text-align: right;\">\n      <th></th>\n      <th>Time</th>\n      <th>V1</th>\n      <th>V2</th>\n      <th>V3</th>\n      <th>V4</th>\n      <th>V5</th>\n      <th>V6</th>\n      <th>V7</th>\n      <th>V8</th>\n      <th>V9</th>\n      <th>...</th>\n      <th>V21</th>\n      <th>V22</th>\n      <th>V23</th>\n      <th>V24</th>\n      <th>V25</th>\n      <th>V26</th>\n      <th>V27</th>\n      <th>V28</th>\n      <th>Amount</th>\n      <th>Class</th>\n    </tr>\n  </thead>\n  <tbody>\n    <tr>\n      <th>0</th>\n      <td>0.0</td>\n      <td>-1.359807</td>\n      <td>-0.072781</td>\n      <td>2.536347</td>\n      <td>1.378155</td>\n      <td>-0.338321</td>\n      <td>0.462388</td>\n      <td>0.239599</td>\n      <td>0.098698</td>\n      <td>0.363787</td>\n      <td>...</td>\n      <td>-0.018307</td>\n      <td>0.277838</td>\n      <td>-0.110474</td>\n      <td>0.066928</td>\n      <td>0.128539</td>\n      <td>-0.189115</td>\n      <td>0.133558</td>\n      <td>-0.021053</td>\n      <td>149.62</td>\n      <td>0</td>\n    </tr>\n    <tr>\n      <th>1</th>\n      <td>0.0</td>\n      <td>1.191857</td>\n      <td>0.266151</td>\n      <td>0.166480</td>\n      <td>0.448154</td>\n      <td>0.060018</td>\n      <td>-0.082361</td>\n      <td>-0.078803</td>\n      <td>0.085102</td>\n      <td>-0.255425</td>\n      <td>...</td>\n      <td>-0.225775</td>\n      <td>-0.638672</td>\n      <td>0.101288</td>\n      <td>-0.339846</td>\n      <td>0.167170</td>\n      <td>0.125895</td>\n      <td>-0.008983</td>\n      <td>0.014724</td>\n      <td>2.69</td>\n      <td>0</td>\n    </tr>\n    <tr>\n      <th>2</th>\n      <td>1.0</td>\n      <td>-1.358354</td>\n      <td>-1.340163</td>\n      <td>1.773209</td>\n      <td>0.379780</td>\n      <td>-0.503198</td>\n      <td>1.800499</td>\n      <td>0.791461</td>\n      <td>0.247676</td>\n      <td>-1.514654</td>\n      <td>...</td>\n      <td>0.247998</td>\n      <td>0.771679</td>\n      <td>0.909412</td>\n      <td>-0.689281</td>\n      <td>-0.327642</td>\n      <td>-0.139097</td>\n      <td>-0.055353</td>\n      <td>-0.059752</td>\n      <td>378.66</td>\n      <td>0</td>\n    </tr>\n    <tr>\n      <th>3</th>\n      <td>1.0</td>\n      <td>-0.966272</td>\n      <td>-0.185226</td>\n      <td>1.792993</td>\n      <td>-0.863291</td>\n      <td>-0.010309</td>\n      <td>1.247203</td>\n      <td>0.237609</td>\n      <td>0.377436</td>\n      <td>-1.387024</td>\n      <td>...</td>\n      <td>-0.108300</td>\n      <td>0.005274</td>\n      <td>-0.190321</td>\n      <td>-1.175575</td>\n      <td>0.647376</td>\n      <td>-0.221929</td>\n      <td>0.062723</td>\n      <td>0.061458</td>\n      <td>123.50</td>\n      <td>0</td>\n    </tr>\n    <tr>\n      <th>4</th>\n      <td>2.0</td>\n      <td>-1.158233</td>\n      <td>0.877737</td>\n      <td>1.548718</td>\n      <td>0.403034</td>\n      <td>-0.407193</td>\n      <td>0.095921</td>\n      <td>0.592941</td>\n      <td>-0.270533</td>\n      <td>0.817739</td>\n      <td>...</td>\n      <td>-0.009431</td>\n      <td>0.798278</td>\n      <td>-0.137458</td>\n      <td>0.141267</td>\n      <td>-0.206010</td>\n      <td>0.502292</td>\n      <td>0.219422</td>\n      <td>0.215153</td>\n      <td>69.99</td>\n      <td>0</td>\n    </tr>\n  </tbody>\n</table>\n<p>5 rows × 31 columns</p>\n</div>"
     },
     "execution_count": 13,
     "metadata": {},
     "output_type": "execute_result"
    }
   ],
   "source": [
    "df.head()"
   ],
   "metadata": {
    "collapsed": false,
    "ExecuteTime": {
     "end_time": "2023-12-29T09:39:17.506562100Z",
     "start_time": "2023-12-29T09:39:17.491063200Z"
    }
   },
   "id": "18e5b2c540cb34e1"
  },
  {
   "cell_type": "code",
   "execution_count": 14,
   "outputs": [],
   "source": [
    "from sklearn.model_selection import train_test_split\n",
    "from sklearn.preprocessing import StandardScaler\n",
    "from sklearn.pipeline import make_pipeline\n",
    "from sklearn.linear_model import LogisticRegression\n",
    "from sklearn.metrics import precision_recall_curve, PrecisionRecallDisplay, precision_recall_fscore_support\n",
    "from sklearn.metrics import roc_curve, RocCurveDisplay\n",
    "from imblearn.under_sampling import NearMiss, RandomUnderSampler\n",
    "from imblearn.over_sampling import SMOTE\n",
    "from imblearn.pipeline import Pipeline"
   ],
   "metadata": {
    "collapsed": false,
    "ExecuteTime": {
     "end_time": "2023-12-29T09:39:17.525562800Z",
     "start_time": "2023-12-29T09:39:17.510562300Z"
    }
   },
   "id": "a051c1d459bff549"
  },
  {
   "cell_type": "code",
   "execution_count": 15,
   "outputs": [],
   "source": [
    "features = list(df.columns[:-1])"
   ],
   "metadata": {
    "collapsed": false,
    "ExecuteTime": {
     "end_time": "2023-12-29T09:39:17.595062200Z",
     "start_time": "2023-12-29T09:39:17.520062500Z"
    }
   },
   "id": "141ba6074e2c97d"
  },
  {
   "cell_type": "code",
   "execution_count": 16,
   "outputs": [],
   "source": [
    "X = df[features]\n",
    "y = df['Class']"
   ],
   "metadata": {
    "collapsed": false,
    "ExecuteTime": {
     "end_time": "2023-12-29T09:39:17.650562600Z",
     "start_time": "2023-12-29T09:39:17.526062400Z"
    }
   },
   "id": "6dc476d76183120d"
  },
  {
   "cell_type": "markdown",
   "source": [
    "It's necessary to perform some form of resampling (under-sampling / over-sampling) in order to deal with the imbalanced dataset, else the final model predictions will be heavily skewed. In original dataset there are 284315 observations of class 0 (not fraudulent) and 492 observations of class 1 (fraudulent)."
   ],
   "metadata": {
    "collapsed": false
   },
   "id": "e8aa7b53116ee580"
  },
  {
   "cell_type": "code",
   "execution_count": 17,
   "outputs": [],
   "source": [
    "# Undersampling method\n",
    "undersample = NearMiss(version=1, n_neighbors=3)"
   ],
   "metadata": {
    "collapsed": false,
    "ExecuteTime": {
     "end_time": "2023-12-29T09:39:17.688563Z",
     "start_time": "2023-12-29T09:39:17.550061100Z"
    }
   },
   "id": "34d0aa96e22b2bda"
  },
  {
   "cell_type": "code",
   "execution_count": 18,
   "outputs": [],
   "source": [
    "# Note: SMOTE seems to not work well with logistic regression, and creates a convergence error. For simplicity I will use under-sampling instead.\n",
    "\n",
    "# Oversampling method\n",
    "# SMOTE paper recommends combining SMOTE minority sampling with random undersampling of majority class\n",
    "#oversample = SMOTE()\n",
    "#random_under = RandomUnderSampler()\n",
    "#steps = [('over', oversample), ('random', random_under)]\n",
    "#pipeline = Pipeline(steps=steps) "
   ],
   "metadata": {
    "collapsed": false,
    "ExecuteTime": {
     "end_time": "2023-12-29T09:39:17.690561300Z",
     "start_time": "2023-12-29T09:39:17.557063200Z"
    }
   },
   "id": "96d041a356f67407"
  },
  {
   "cell_type": "code",
   "execution_count": 19,
   "outputs": [],
   "source": [
    "# Avoid introducing any data leakage\n",
    "X_train, X_test, y_train, y_test = train_test_split(X, y, stratify=y, test_size=0.2)\n",
    "X_train_resample, y_train_resample = undersample.fit_resample(X_train, y_train)\n",
    "#X_train_resample, y_train_resample = pipeline.fit_resample(X, y)"
   ],
   "metadata": {
    "collapsed": false,
    "ExecuteTime": {
     "end_time": "2023-12-29T09:39:18.408062300Z",
     "start_time": "2023-12-29T09:39:17.564064200Z"
    }
   },
   "id": "e42ba38d11fc3f9d"
  },
  {
   "cell_type": "code",
   "execution_count": 20,
   "outputs": [],
   "source": [
    "#scaler = StandardScaler().fit(X_train)\n",
    "#X_train_scaled = scaler.transform(X_train)\n",
    "#X_test_scaled = scaler.transform(X_test)\n",
    "\n",
    "scaler = StandardScaler().fit(X_train_resample)\n",
    "X_train_scaled = scaler.transform(X_train_resample)\n",
    "X_test_scaled = scaler.transform(X_test)"
   ],
   "metadata": {
    "collapsed": false,
    "ExecuteTime": {
     "end_time": "2023-12-29T09:39:18.435062100Z",
     "start_time": "2023-12-29T09:39:18.408562800Z"
    }
   },
   "id": "ee9d2ba8bc5e0934"
  },
  {
   "cell_type": "code",
   "execution_count": 21,
   "outputs": [
    {
     "name": "stdout",
     "output_type": "stream",
     "text": [
      "-1.1722151732082872e-16\t1.0\n",
      "3.60681591756396e-17\t1.0\n",
      "0.0\t1.0\n",
      "0.0\t1.0\n",
      "0.0\t1.0\n",
      "-7.21363183512792e-17\t1.0\n",
      "1.0820447752691881e-16\t1.0\n",
      "0.0\t1.0\n",
      "9.0170397939099e-18\t1.0\n",
      "3.60681591756396e-17\t0.9999999999999999\n",
      "7.21363183512792e-17\t1.0\n",
      "0.0\t0.9999999999999999\n",
      "-7.21363183512792e-17\t1.0\n",
      "1.80340795878198e-17\t1.0\n",
      "7.21363183512792e-17\t0.9999999999999998\n",
      "2.7051119381729703e-17\t0.9999999999999999\n",
      "-3.60681591756396e-17\t0.9999999999999999\n",
      "0.0\t0.9999999999999998\n",
      "3.60681591756396e-17\t1.0\n",
      "-3.60681591756396e-17\t0.9999999999999999\n",
      "-3.60681591756396e-17\t1.0\n",
      "1.80340795878198e-17\t1.0\n",
      "-2.254259948477475e-18\t1.0\n",
      "-1.1271299742387376e-17\t1.0\n",
      "1.80340795878198e-17\t0.9999999999999999\n",
      "0.0\t1.0\n",
      "1.1271299742387376e-17\t1.0\n",
      "2.7051119381729703e-17\t0.9999999999999998\n",
      "1.80340795878198e-17\t1.0\n",
      "1.80340795878198e-17\t1.0\n"
     ]
    }
   ],
   "source": [
    "# Making sure decision variables are scaled\n",
    "for i in range(X_train_scaled.shape[1]):\n",
    "      print(f\"{X_train_scaled[:,i].mean()}\\t{X_train_scaled[:,i].std()}\")"
   ],
   "metadata": {
    "collapsed": false,
    "ExecuteTime": {
     "end_time": "2023-12-29T09:39:18.448562900Z",
     "start_time": "2023-12-29T09:39:18.433562700Z"
    }
   },
   "id": "44d2912533e82d8a"
  },
  {
   "cell_type": "code",
   "execution_count": 22,
   "outputs": [],
   "source": [
    "# Note: Experiment with C param (inverse of regularization strength) and class_weight param (weights associated wwith classes)\n",
    "logit = LogisticRegression(class_weight=\"balanced\").fit(X_train_scaled, y_train_resample)\n",
    "#logit = LogisticRegression(class_weight=\"balanced\").fit(X_train_scaled, y_train)\n",
    "#logit = LogisticRegression(class_weight={0:0.05, 1:0.95}).fit(X_train_scaled, y_train)"
   ],
   "metadata": {
    "collapsed": false,
    "ExecuteTime": {
     "end_time": "2023-12-29T09:39:18.518063700Z",
     "start_time": "2023-12-29T09:39:18.446562500Z"
    }
   },
   "id": "f99bc683dba3d99d"
  },
  {
   "cell_type": "code",
   "execution_count": 23,
   "outputs": [],
   "source": [
    "y_prob_pred = logit.predict_proba(X_test_scaled)[:,1]"
   ],
   "metadata": {
    "collapsed": false,
    "ExecuteTime": {
     "end_time": "2023-12-29T09:39:18.520062500Z",
     "start_time": "2023-12-29T09:39:18.478560900Z"
    }
   },
   "id": "f4ee90e6cce10f7f"
  },
  {
   "cell_type": "code",
   "execution_count": 24,
   "outputs": [
    {
     "name": "stdout",
     "output_type": "stream",
     "text": [
      "Optimal threshold:  0.7835865418436233\n"
     ]
    },
    {
     "data": {
      "text/plain": "<sklearn.metrics._plot.roc_curve.RocCurveDisplay at 0x22e7094db90>"
     },
     "execution_count": 24,
     "metadata": {},
     "output_type": "execute_result"
    },
    {
     "data": {
      "text/plain": "<Figure size 640x480 with 1 Axes>",
      "image/png": "[encoded data removed]"
     },
     "metadata": {},
     "output_type": "display_data"
    }
   ],
   "source": [
    "fpr, tpr, thresholds = roc_curve(y_test, y_prob_pred)\n",
    "opt_idx = np.argmax(tpr-fpr)\n",
    "opt_threshold = thresholds[opt_idx]\n",
    "print(\"Optimal threshold: \", opt_threshold)\n",
    "RocCurveDisplay.from_predictions(y_test, y_prob_pred, color=\"red\", plot_chance_level=True)"
   ],
   "metadata": {
    "collapsed": false,
    "ExecuteTime": {
     "end_time": "2023-12-29T09:39:18.831064800Z",
     "start_time": "2023-12-29T09:39:18.492063600Z"
    }
   },
   "id": "22b9f5db2cfea97f"
  },
  {
   "cell_type": "code",
   "execution_count": 25,
   "outputs": [],
   "source": [
    "precision, recall, thresholds = precision_recall_curve(y_test, y_prob_pred)"
   ],
   "metadata": {
    "collapsed": false,
    "ExecuteTime": {
     "end_time": "2023-12-29T09:39:18.846064500Z",
     "start_time": "2023-12-29T09:39:18.832063100Z"
    }
   },
   "id": "6210cf4d39f22217"
  },
  {
   "cell_type": "code",
   "execution_count": 26,
   "outputs": [
    {
     "data": {
      "text/plain": "Text(0.5, 1.0, 'Precision-Recall Curve')"
     },
     "execution_count": 26,
     "metadata": {},
     "output_type": "execute_result"
    },
    {
     "data": {
      "text/plain": "<Figure size 640x480 with 1 Axes>",
      "image/png": "[encoded data removed]"
     },
     "metadata": {},
     "output_type": "display_data"
    }
   ],
   "source": [
    "display = PrecisionRecallDisplay.from_predictions(y_test, y_prob_pred, name=\"Logit Score\")\n",
    "display.ax_.set_title(\"Precision-Recall Curve\")"
   ],
   "metadata": {
    "collapsed": false,
    "ExecuteTime": {
     "end_time": "2023-12-29T09:39:19.100564600Z",
     "start_time": "2023-12-29T09:39:18.846064500Z"
    }
   },
   "id": "55eb6cc87cf72c24"
  },
  {
   "cell_type": "code",
   "execution_count": 27,
   "outputs": [],
   "source": [
    "y_pred = np.array([1 if p > opt_threshold else 0 for p in y_prob_pred])"
   ],
   "metadata": {
    "collapsed": false,
    "ExecuteTime": {
     "end_time": "2023-12-29T09:39:19.108062800Z",
     "start_time": "2023-12-29T09:39:19.095065Z"
    }
   },
   "id": "c1b0d48cb8b0e6e1"
  },
  {
   "cell_type": "code",
   "execution_count": 28,
   "outputs": [
    {
     "data": {
      "text/plain": "(56962,)"
     },
     "execution_count": 28,
     "metadata": {},
     "output_type": "execute_result"
    }
   ],
   "source": [
    "y_pred.shape"
   ],
   "metadata": {
    "collapsed": false,
    "ExecuteTime": {
     "end_time": "2023-12-29T09:39:19.116063200Z",
     "start_time": "2023-12-29T09:39:19.108566200Z"
    }
   },
   "id": "422fb4c0d02aa7b9"
  },
  {
   "cell_type": "code",
   "execution_count": 29,
   "outputs": [],
   "source": [
    "precision, recall, fscore, support = precision_recall_fscore_support(y_test, y_pred, average='macro')"
   ],
   "metadata": {
    "collapsed": false,
    "ExecuteTime": {
     "end_time": "2023-12-29T09:39:19.180563200Z",
     "start_time": "2023-12-29T09:39:19.116063200Z"
    }
   },
   "id": "ab8672b743dfae15"
  },
  {
   "cell_type": "code",
   "execution_count": 30,
   "outputs": [
    {
     "name": "stdout",
     "output_type": "stream",
     "text": [
      "Precision: 0.5125424871157963 \n",
      "Recall: 0.9096533942783641 \n",
      "Fscore: 0.509549011671583 \n",
      "Support: None\n"
     ]
    }
   ],
   "source": [
    "print(f\"Precision: {precision} \\n\"\n",
    "      f\"Recall: {recall} \\n\"\n",
    "      f\"Fscore: {fscore} \\n\"\n",
    "      f\"Support: {support}\")"
   ],
   "metadata": {
    "collapsed": false,
    "ExecuteTime": {
     "end_time": "2023-12-29T09:39:19.180563200Z",
     "start_time": "2023-12-29T09:39:19.144063300Z"
    }
   },
   "id": "50f1c35554589f9a"
  },
  {
   "cell_type": "markdown",
   "source": [
    "After evaluation, our precision is poor and recall is decent. This can indicate that our model is good at predicting the fraud class (i.e, good at identifying true positive) but becomes confused for the non-fraud class (i.e, more instances of false positives). We can try to reduce the undersampling rate, as well as attempt other resampling methods."
   ],
   "metadata": {
    "collapsed": false
   },
   "id": "db0075977669b80a"
  },
  {
   "cell_type": "code",
   "execution_count": null,
   "outputs": [],
   "source": [],
   "metadata": {
    "collapsed": false
   },
   "id": "160cd98f5bbcbc6f"
  }
 ],
 "metadata": {
  "kernelspec": {
   "display_name": "Python 3",
   "language": "python",
   "name": "python3"
  },
  "language_info": {
   "codemirror_mode": {
    "name": "ipython",
    "version": 2
   },
   "file_extension": ".py",
   "mimetype": "text/x-python",
   "name": "python",
   "nbconvert_exporter": "python",
   "pygments_lexer": "ipython2",
   "version": "2.7.6"
  }
 },
 "nbformat": 4,
 "nbformat_minor": 5
}
